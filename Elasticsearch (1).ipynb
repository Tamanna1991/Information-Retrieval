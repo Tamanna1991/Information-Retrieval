{
  "nbformat": 4,
  "nbformat_minor": 0,
  "metadata": {
    "colab": {
      "name": "Elasticsearch.ipynb",
      "provenance": []
    },
    "kernelspec": {
      "name": "python3",
      "display_name": "Python 3"
    },
    "language_info": {
      "name": "python"
    },
    "gpuClass": "standard"
  },
  "cells": [
    {
      "cell_type": "code",
      "source": [
        "!pip3 install elasticsearch==8.2.3"
      ],
      "metadata": {
        "id": "2WJ7edl_Uase",
        "colab": {
          "base_uri": "https://localhost:8080/"
        },
        "outputId": "15cb1c6f-b43b-4225-8f55-6058a840cce9"
      },
      "execution_count": null,
      "outputs": [
        {
          "output_type": "stream",
          "name": "stdout",
          "text": [
            "Looking in indexes: https://pypi.org/simple, https://us-python.pkg.dev/colab-wheels/public/simple/\n",
            "Requirement already satisfied: elasticsearch==8.2.3 in /usr/local/lib/python3.7/dist-packages (8.2.3)\n",
            "Requirement already satisfied: elastic-transport<9,>=8 in /usr/local/lib/python3.7/dist-packages (from elasticsearch==8.2.3) (8.1.2)\n",
            "Requirement already satisfied: certifi in /usr/local/lib/python3.7/dist-packages (from elastic-transport<9,>=8->elasticsearch==8.2.3) (2022.5.18.1)\n",
            "Requirement already satisfied: urllib3<2,>=1.26.2 in /usr/local/lib/python3.7/dist-packages (from elastic-transport<9,>=8->elasticsearch==8.2.3) (1.26.9)\n"
          ]
        }
      ]
    },
    {
      "cell_type": "code",
      "source": [
        "pip freeze"
      ],
      "metadata": {
        "id": "392JnpIsDAsL"
      },
      "execution_count": null,
      "outputs": []
    },
    {
      "cell_type": "code",
      "source": [
        "pip freeze"
      ],
      "metadata": {
        "id": "ywh5LOipCsYW"
      },
      "execution_count": null,
      "outputs": []
    },
    {
      "cell_type": "code",
      "source": [
        "from elasticsearch import Elasticsearch"
      ],
      "metadata": {
        "id": "D9CaflJVUk4A"
      },
      "execution_count": null,
      "outputs": []
    },
    {
      "cell_type": "code",
      "source": [
        "! pip install jason"
      ],
      "metadata": {
        "id": "EcoWKKcQ153W"
      },
      "execution_count": null,
      "outputs": []
    },
    {
      "cell_type": "code",
      "source": [
        "from datetime import datetime"
      ],
      "metadata": {
        "id": "EdGkZIuSU2wu"
      },
      "execution_count": null,
      "outputs": []
    },
    {
      "cell_type": "code",
      "source": [
        "import json as simplejson"
      ],
      "metadata": {
        "id": "TvIvw1ic3hpm"
      },
      "execution_count": null,
      "outputs": []
    },
    {
      "cell_type": "code",
      "source": [
        "import os"
      ],
      "metadata": {
        "id": "mtrt54Or3g1p"
      },
      "execution_count": null,
      "outputs": []
    },
    {
      "cell_type": "code",
      "source": [
        "import sys"
      ],
      "metadata": {
        "id": "V0ZSApLG21wk"
      },
      "execution_count": null,
      "outputs": []
    },
    {
      "cell_type": "code",
      "source": [
        "import json"
      ],
      "metadata": {
        "id": "GykYnZQMB7h1"
      },
      "execution_count": null,
      "outputs": []
    },
    {
      "cell_type": "code",
      "source": [
        "es = Elasticsearch(\"http://localhost:9200/\")\n"
      ],
      "metadata": {
        "id": "vNpnzOuTWJrj"
      },
      "execution_count": null,
      "outputs": []
    },
    {
      "cell_type": "code",
      "source": [
        "with open('/content/drive/MyDrive/sample-1M.jsonl','r') as json_file:\n",
        "  json_list = list(json_file)"
      ],
      "metadata": {
        "id": "4kdJrDjIzWHx"
      },
      "execution_count": null,
      "outputs": []
    },
    {
      "cell_type": "code",
      "source": [
        ""
      ],
      "metadata": {
        "id": "jH7VrDNUBqan"
      },
      "execution_count": null,
      "outputs": []
    },
    {
      "cell_type": "code",
      "source": [
        "c= 63963\n",
        "for i in range(63963,len(json_list)):\n",
        "  #results\n",
        "  result = json.loads(json_list[i])\n",
        "  doc= {\"id\":result['id'],\n",
        "        \"content\":result['content'],\n",
        "        \"title\" :result['title'],\n",
        "        \"media\": result['media-type'],\n",
        "        \"source\": result['source'],\n",
        "        \"published\":result['published']}\n",
        "  resp = es.index(index=\"index_f\", id=c, body=doc, __doc__='articles')\n",
        "  print(\"posted doc :\",x)\n",
        "  x=x+1\n"
      ],
      "metadata": {
        "id": "UtnskJjJFT9i"
      },
      "execution_count": null,
      "outputs": []
    },
    {
      "cell_type": "code",
      "source": [
        "import sys\n",
        "import json\n",
        "from pprint import pprint\n",
        "from elasticsearch import Elasticsearch\n",
        "\n",
        "es = Elasticsearch(\"http://localhost:9200/\")\n",
        "\n",
        "MyFile= open(\"/content/drive/MyDrive/sample-1M.jsonl\",'r').read()\n",
        "ClearData = MyFile.splitlines(True)\n",
        "i=0\n",
        "json_str=\"\"\n",
        "docs ={}\n",
        "for line in ClearData:\n",
        "    line = ''.join(line.split())\n",
        "    if line != \"},\":\n",
        "        json_str = json_str+line\n",
        "    else:\n",
        "        docs[i]=json_str+\"}\"\n",
        "        json_str=\"\"\n",
        "        print(docs[i])\n",
        "        es.index(index='shakespeare', doc_type='Blog', id=i, body=docs[i])\n",
        "        i=i+1"
      ],
      "metadata": {
        "id": "_pSmF-Wui3Ed",
        "colab": {
          "base_uri": "https://localhost:8080/"
        },
        "outputId": "e74643af-0175-438b-9907-7de20922c008"
      },
      "execution_count": null,
      "outputs": [
        {
          "output_type": "stream",
          "name": "stderr",
          "text": [
            "/usr/local/lib/python3.7/dist-packages/requests/__init__.py:91: RequestsDependencyWarning: urllib3 (1.26.9) or chardet (3.0.4) doesn't match a supported version!\n",
            "  RequestsDependencyWarning)\n"
          ]
        }
      ]
    },
    {
      "cell_type": "code",
      "source": [
        ""
      ],
      "metadata": {
        "id": "dKJNzeHCrk6a"
      },
      "execution_count": null,
      "outputs": []
    },
    {
      "cell_type": "code",
      "source": [
        "es = Elasticsearch(\"http://localhost:9200/\")\n"
      ],
      "metadata": {
        "id": "S3-_YwUGJNZc"
      },
      "execution_count": null,
      "outputs": []
    },
    {
      "cell_type": "code",
      "source": [
        "es = Elasticsearch(\"http://localhost:9200/\")\n",
        "es = Elasticsearch(ES_CLUSTER)\n",
        "with open(\"C:\\ElasticSearch\\shakespeare_6.0.json\") as json_file:\n",
        "    json_docs = json.load(json_file)\n",
        "es.bulk(ES_INDEX, ES_TYPE, json_docs)"
      ],
      "metadata": {
        "colab": {
          "base_uri": "https://localhost:8080/",
          "height": 235
        },
        "id": "Rhhbtt0RJnj0",
        "outputId": "21e7c569-2368-4c4d-cfca-f9f3b9a02dac"
      },
      "execution_count": null,
      "outputs": [
        {
          "output_type": "error",
          "ename": "NameError",
          "evalue": "ignored",
          "traceback": [
            "\u001b[0;31m---------------------------------------------------------------------------\u001b[0m",
            "\u001b[0;31mNameError\u001b[0m                                 Traceback (most recent call last)",
            "\u001b[0;32m<ipython-input-33-04062d2b5112>\u001b[0m in \u001b[0;36m<module>\u001b[0;34m()\u001b[0m\n\u001b[1;32m      1\u001b[0m \u001b[0mes\u001b[0m \u001b[0;34m=\u001b[0m \u001b[0mElasticsearch\u001b[0m\u001b[0;34m(\u001b[0m\u001b[0;34m\"http://localhost:9200/\"\u001b[0m\u001b[0;34m)\u001b[0m\u001b[0;34m\u001b[0m\u001b[0;34m\u001b[0m\u001b[0m\n\u001b[0;32m----> 2\u001b[0;31m \u001b[0mes\u001b[0m \u001b[0;34m=\u001b[0m \u001b[0mElasticsearch\u001b[0m\u001b[0;34m(\u001b[0m\u001b[0mES_CLUSTER\u001b[0m\u001b[0;34m)\u001b[0m\u001b[0;34m\u001b[0m\u001b[0;34m\u001b[0m\u001b[0m\n\u001b[0m\u001b[1;32m      3\u001b[0m \u001b[0;32mwith\u001b[0m \u001b[0mopen\u001b[0m\u001b[0;34m(\u001b[0m\u001b[0;34m\"C:\\ElasticSearch\\shakespeare_6.0.json\"\u001b[0m\u001b[0;34m)\u001b[0m \u001b[0;32mas\u001b[0m \u001b[0mjson_file\u001b[0m\u001b[0;34m:\u001b[0m\u001b[0;34m\u001b[0m\u001b[0;34m\u001b[0m\u001b[0m\n\u001b[1;32m      4\u001b[0m     \u001b[0mjson_docs\u001b[0m \u001b[0;34m=\u001b[0m \u001b[0mjson\u001b[0m\u001b[0;34m.\u001b[0m\u001b[0mload\u001b[0m\u001b[0;34m(\u001b[0m\u001b[0mjson_file\u001b[0m\u001b[0;34m)\u001b[0m\u001b[0;34m\u001b[0m\u001b[0;34m\u001b[0m\u001b[0m\n\u001b[1;32m      5\u001b[0m \u001b[0mes\u001b[0m\u001b[0;34m.\u001b[0m\u001b[0mbulk\u001b[0m\u001b[0;34m(\u001b[0m\u001b[0mES_INDEX\u001b[0m\u001b[0;34m,\u001b[0m \u001b[0mES_TYPE\u001b[0m\u001b[0;34m,\u001b[0m \u001b[0mjson_docs\u001b[0m\u001b[0;34m)\u001b[0m\u001b[0;34m\u001b[0m\u001b[0;34m\u001b[0m\u001b[0m\n",
            "\u001b[0;31mNameError\u001b[0m: name 'ES_CLUSTER' is not defined"
          ]
        }
      ]
    },
    {
      "cell_type": "code",
      "source": [
        "es = Elasticsearch(\"http://localhost:9200/\")\n"
      ],
      "metadata": {
        "id": "GoPxn40LKLME"
      },
      "execution_count": null,
      "outputs": []
    },
    {
      "cell_type": "code",
      "source": [
        "es = Elasticsearch(\"http://localhost:9200/\")\n"
      ],
      "metadata": {
        "id": "ndwDSMr0KH7I"
      },
      "execution_count": null,
      "outputs": []
    }
  ]
}